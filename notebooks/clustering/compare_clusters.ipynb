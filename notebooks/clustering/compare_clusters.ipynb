{
 "cells": [
  {
   "cell_type": "markdown",
   "id": "0b151317",
   "metadata": {},
   "source": [
    "# Run Silhouette Score on Clusters from Previous Group"
   ]
  },
  {
   "cell_type": "code",
   "execution_count": 25,
   "id": "bd686285",
   "metadata": {},
   "outputs": [],
   "source": [
    "import pickle\n",
    "from sklearn.cluster import KMeans\n",
    "from sklearn.metrics import silhouette_score\n",
    "import numpy as np"
   ]
  },
  {
   "cell_type": "code",
   "execution_count": null,
   "id": "a76f2373",
   "metadata": {},
   "outputs": [],
   "source": [
    "with open(\"../dataset/sbert_embeddings_part2.pkl\", \"rb\") as f:\n",
    "    embeddings = pickle.load(f)"
   ]
  },
  {
   "cell_type": "code",
   "execution_count": null,
   "id": "e8204064",
   "metadata": {},
   "outputs": [],
   "source": [
    "embeddings = np.array(embeddings)\n",
    "unique_embeddings = np.unique(embeddings, axis=0)"
   ]
  },
  {
   "cell_type": "code",
   "execution_count": 22,
   "id": "a6af38bb",
   "metadata": {},
   "outputs": [],
   "source": [
    "num_clusters = 10\n",
    "\n",
    "kmeans = KMeans(n_clusters=num_clusters, random_state=42)\n",
    "labels = kmeans.fit_predict(unique_embeddings)"
   ]
  },
  {
   "cell_type": "code",
   "execution_count": 24,
   "id": "32b00ee8",
   "metadata": {},
   "outputs": [
    {
     "name": "stdout",
     "output_type": "stream",
     "text": [
      "Silhouette Score for k=10: 0.0336\n"
     ]
    }
   ],
   "source": [
    "score = silhouette_score(unique_embeddings, labels)\n",
    "\n",
    "print(f\"Silhouette Score for k=10: {score:.4f}\")"
   ]
  }
 ],
 "metadata": {
  "kernelspec": {
   "display_name": "tfenv",
   "language": "python",
   "name": "python3"
  },
  "language_info": {
   "codemirror_mode": {
    "name": "ipython",
    "version": 3
   },
   "file_extension": ".py",
   "mimetype": "text/x-python",
   "name": "python",
   "nbconvert_exporter": "python",
   "pygments_lexer": "ipython3",
   "version": "3.9.21"
  }
 },
 "nbformat": 4,
 "nbformat_minor": 5
}
