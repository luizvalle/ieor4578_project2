{
 "cells": [
  {
   "cell_type": "markdown",
   "id": "c6cdcb28-a830-4fdb-b2ba-fb89d6be5e48",
   "metadata": {},
   "source": [
    "## Setup"
   ]
  },
  {
   "cell_type": "code",
   "execution_count": 43,
   "id": "f56a1303-7233-4aa5-a0ab-bc166643855f",
   "metadata": {},
   "outputs": [],
   "source": [
    "import requests\n",
    "import zipfile\n",
    "import io\n",
    "import pandas as pd\n",
    "import matplotlib.pyplot as plt\n",
    "import matplotlib\n",
    "import pytz\n",
    "import numpy as np\n",
    "import pandas as pd\n",
    "import math\n",
    "import warnings\n",
    "import seaborn as sns\n",
    "import os\n",
    "import shutil\n",
    "\n",
    "# Suppress specific warnings (in this case, FutureWarnings)\n",
    "warnings.simplefilter(action='ignore', category=FutureWarning)"
   ]
  },
  {
   "cell_type": "markdown",
   "id": "236d4ceb-5961-4bd1-9e7b-9246554e3816",
   "metadata": {},
   "source": [
    "## Download the dataset"
   ]
  },
  {
   "cell_type": "code",
   "execution_count": 22,
   "id": "8f30fd19-b667-4c68-bd7e-a1ca8f8f9b23",
   "metadata": {},
   "outputs": [],
   "source": [
    "DATASET_URL = 'https://archive.ics.uci.edu/static/public/502/online+retail+ii.zip'\n",
    "DATASET_FILENAME = 'online_retail_II.xlsx'\n",
    "\n",
    "response = requests.get(DATASET_URL)\n",
    "zip_bytes = io.BytesIO(response.content)\n",
    "\n",
    "with zipfile.ZipFile(zip_bytes) as z:\n",
    "    with z.open(DATASET_FILENAME) as file:\n",
    "        online_retail_df = pd.read_excel(file)"
   ]
  },
  {
   "cell_type": "markdown",
   "id": "7cdc308b-fdd0-4a29-a4cb-ded5e22c567e",
   "metadata": {},
   "source": [
    "## Explore the dataset"
   ]
  },
  {
   "cell_type": "code",
   "execution_count": 23,
   "id": "3f30d511-986d-4ca6-bd59-7982632b3a3b",
   "metadata": {},
   "outputs": [
    {
     "data": {
      "text/html": [
       "<div>\n",
       "<style scoped>\n",
       "    .dataframe tbody tr th:only-of-type {\n",
       "        vertical-align: middle;\n",
       "    }\n",
       "\n",
       "    .dataframe tbody tr th {\n",
       "        vertical-align: top;\n",
       "    }\n",
       "\n",
       "    .dataframe thead th {\n",
       "        text-align: right;\n",
       "    }\n",
       "</style>\n",
       "<table border=\"1\" class=\"dataframe\">\n",
       "  <thead>\n",
       "    <tr style=\"text-align: right;\">\n",
       "      <th></th>\n",
       "      <th>Invoice</th>\n",
       "      <th>StockCode</th>\n",
       "      <th>Description</th>\n",
       "      <th>Quantity</th>\n",
       "      <th>InvoiceDate</th>\n",
       "      <th>Price</th>\n",
       "      <th>Customer ID</th>\n",
       "      <th>Country</th>\n",
       "    </tr>\n",
       "  </thead>\n",
       "  <tbody>\n",
       "    <tr>\n",
       "      <th>0</th>\n",
       "      <td>489434</td>\n",
       "      <td>85048</td>\n",
       "      <td>15CM CHRISTMAS GLASS BALL 20 LIGHTS</td>\n",
       "      <td>12</td>\n",
       "      <td>2009-12-01 07:45:00</td>\n",
       "      <td>6.95</td>\n",
       "      <td>13085.0</td>\n",
       "      <td>United Kingdom</td>\n",
       "    </tr>\n",
       "    <tr>\n",
       "      <th>1</th>\n",
       "      <td>489434</td>\n",
       "      <td>79323P</td>\n",
       "      <td>PINK CHERRY LIGHTS</td>\n",
       "      <td>12</td>\n",
       "      <td>2009-12-01 07:45:00</td>\n",
       "      <td>6.75</td>\n",
       "      <td>13085.0</td>\n",
       "      <td>United Kingdom</td>\n",
       "    </tr>\n",
       "    <tr>\n",
       "      <th>2</th>\n",
       "      <td>489434</td>\n",
       "      <td>79323W</td>\n",
       "      <td>WHITE CHERRY LIGHTS</td>\n",
       "      <td>12</td>\n",
       "      <td>2009-12-01 07:45:00</td>\n",
       "      <td>6.75</td>\n",
       "      <td>13085.0</td>\n",
       "      <td>United Kingdom</td>\n",
       "    </tr>\n",
       "    <tr>\n",
       "      <th>3</th>\n",
       "      <td>489434</td>\n",
       "      <td>22041</td>\n",
       "      <td>RECORD FRAME 7\" SINGLE SIZE</td>\n",
       "      <td>48</td>\n",
       "      <td>2009-12-01 07:45:00</td>\n",
       "      <td>2.10</td>\n",
       "      <td>13085.0</td>\n",
       "      <td>United Kingdom</td>\n",
       "    </tr>\n",
       "    <tr>\n",
       "      <th>4</th>\n",
       "      <td>489434</td>\n",
       "      <td>21232</td>\n",
       "      <td>STRAWBERRY CERAMIC TRINKET BOX</td>\n",
       "      <td>24</td>\n",
       "      <td>2009-12-01 07:45:00</td>\n",
       "      <td>1.25</td>\n",
       "      <td>13085.0</td>\n",
       "      <td>United Kingdom</td>\n",
       "    </tr>\n",
       "    <tr>\n",
       "      <th>...</th>\n",
       "      <td>...</td>\n",
       "      <td>...</td>\n",
       "      <td>...</td>\n",
       "      <td>...</td>\n",
       "      <td>...</td>\n",
       "      <td>...</td>\n",
       "      <td>...</td>\n",
       "      <td>...</td>\n",
       "    </tr>\n",
       "    <tr>\n",
       "      <th>525456</th>\n",
       "      <td>538171</td>\n",
       "      <td>22271</td>\n",
       "      <td>FELTCRAFT DOLL ROSIE</td>\n",
       "      <td>2</td>\n",
       "      <td>2010-12-09 20:01:00</td>\n",
       "      <td>2.95</td>\n",
       "      <td>17530.0</td>\n",
       "      <td>United Kingdom</td>\n",
       "    </tr>\n",
       "    <tr>\n",
       "      <th>525457</th>\n",
       "      <td>538171</td>\n",
       "      <td>22750</td>\n",
       "      <td>FELTCRAFT PRINCESS LOLA DOLL</td>\n",
       "      <td>1</td>\n",
       "      <td>2010-12-09 20:01:00</td>\n",
       "      <td>3.75</td>\n",
       "      <td>17530.0</td>\n",
       "      <td>United Kingdom</td>\n",
       "    </tr>\n",
       "    <tr>\n",
       "      <th>525458</th>\n",
       "      <td>538171</td>\n",
       "      <td>22751</td>\n",
       "      <td>FELTCRAFT PRINCESS OLIVIA DOLL</td>\n",
       "      <td>1</td>\n",
       "      <td>2010-12-09 20:01:00</td>\n",
       "      <td>3.75</td>\n",
       "      <td>17530.0</td>\n",
       "      <td>United Kingdom</td>\n",
       "    </tr>\n",
       "    <tr>\n",
       "      <th>525459</th>\n",
       "      <td>538171</td>\n",
       "      <td>20970</td>\n",
       "      <td>PINK FLORAL FELTCRAFT SHOULDER BAG</td>\n",
       "      <td>2</td>\n",
       "      <td>2010-12-09 20:01:00</td>\n",
       "      <td>3.75</td>\n",
       "      <td>17530.0</td>\n",
       "      <td>United Kingdom</td>\n",
       "    </tr>\n",
       "    <tr>\n",
       "      <th>525460</th>\n",
       "      <td>538171</td>\n",
       "      <td>21931</td>\n",
       "      <td>JUMBO STORAGE BAG SUKI</td>\n",
       "      <td>2</td>\n",
       "      <td>2010-12-09 20:01:00</td>\n",
       "      <td>1.95</td>\n",
       "      <td>17530.0</td>\n",
       "      <td>United Kingdom</td>\n",
       "    </tr>\n",
       "  </tbody>\n",
       "</table>\n",
       "<p>525461 rows × 8 columns</p>\n",
       "</div>"
      ],
      "text/plain": [
       "       Invoice StockCode                          Description  Quantity  \\\n",
       "0       489434     85048  15CM CHRISTMAS GLASS BALL 20 LIGHTS        12   \n",
       "1       489434    79323P                   PINK CHERRY LIGHTS        12   \n",
       "2       489434    79323W                  WHITE CHERRY LIGHTS        12   \n",
       "3       489434     22041         RECORD FRAME 7\" SINGLE SIZE         48   \n",
       "4       489434     21232       STRAWBERRY CERAMIC TRINKET BOX        24   \n",
       "...        ...       ...                                  ...       ...   \n",
       "525456  538171     22271                 FELTCRAFT DOLL ROSIE         2   \n",
       "525457  538171     22750         FELTCRAFT PRINCESS LOLA DOLL         1   \n",
       "525458  538171     22751       FELTCRAFT PRINCESS OLIVIA DOLL         1   \n",
       "525459  538171     20970   PINK FLORAL FELTCRAFT SHOULDER BAG         2   \n",
       "525460  538171     21931               JUMBO STORAGE BAG SUKI         2   \n",
       "\n",
       "               InvoiceDate  Price  Customer ID         Country  \n",
       "0      2009-12-01 07:45:00   6.95      13085.0  United Kingdom  \n",
       "1      2009-12-01 07:45:00   6.75      13085.0  United Kingdom  \n",
       "2      2009-12-01 07:45:00   6.75      13085.0  United Kingdom  \n",
       "3      2009-12-01 07:45:00   2.10      13085.0  United Kingdom  \n",
       "4      2009-12-01 07:45:00   1.25      13085.0  United Kingdom  \n",
       "...                    ...    ...          ...             ...  \n",
       "525456 2010-12-09 20:01:00   2.95      17530.0  United Kingdom  \n",
       "525457 2010-12-09 20:01:00   3.75      17530.0  United Kingdom  \n",
       "525458 2010-12-09 20:01:00   3.75      17530.0  United Kingdom  \n",
       "525459 2010-12-09 20:01:00   3.75      17530.0  United Kingdom  \n",
       "525460 2010-12-09 20:01:00   1.95      17530.0  United Kingdom  \n",
       "\n",
       "[525461 rows x 8 columns]"
      ]
     },
     "execution_count": 23,
     "metadata": {},
     "output_type": "execute_result"
    }
   ],
   "source": [
    "online_retail_df"
   ]
  },
  {
   "cell_type": "code",
   "execution_count": 38,
   "id": "64264113-e61a-4777-8be6-0539fc9e29af",
   "metadata": {},
   "outputs": [
    {
     "data": {
      "text/plain": [
       "Invoice\n",
       "537434     675\n",
       "538071     652\n",
       "537638     601\n",
       "537237     597\n",
       "536876     593\n",
       "          ... \n",
       "523981       1\n",
       "523984       1\n",
       "523985       1\n",
       "C523988      1\n",
       "C516462      1\n",
       "Name: count, Length: 28816, dtype: int64"
      ]
     },
     "execution_count": 38,
     "metadata": {},
     "output_type": "execute_result"
    }
   ],
   "source": [
    "online_retail_df['Invoice'].value_counts()"
   ]
  },
  {
   "cell_type": "code",
   "execution_count": 25,
   "id": "bb7ca066-bd0a-4e5d-ac1f-ad304ce643ec",
   "metadata": {},
   "outputs": [
    {
     "data": {
      "text/plain": [
       "StockCode\n",
       "85123A    3516\n",
       "22423     2221\n",
       "85099B    2057\n",
       "21212     1933\n",
       "21232     1843\n",
       "          ... \n",
       "90005B       1\n",
       "90197C       1\n",
       "90080        1\n",
       "20904        1\n",
       "21120        1\n",
       "Name: count, Length: 4632, dtype: int64"
      ]
     },
     "execution_count": 25,
     "metadata": {},
     "output_type": "execute_result"
    }
   ],
   "source": [
    "online_retail_df['StockCode'].value_counts()"
   ]
  },
  {
   "cell_type": "code",
   "execution_count": 26,
   "id": "b39acaf4-f5f5-482d-80db-ef4743644c37",
   "metadata": {},
   "outputs": [
    {
     "data": {
      "text/plain": [
       "Description\n",
       "WHITE HANGING HEART T-LIGHT HOLDER     3549\n",
       "REGENCY CAKESTAND 3 TIER               2212\n",
       "STRAWBERRY CERAMIC TRINKET BOX         1843\n",
       "PACK OF 72 RETRO SPOT CAKE CASES       1466\n",
       "ASSORTED COLOUR BIRD ORNAMENT          1457\n",
       "                                       ... \n",
       "stock credited from royal yacht inc       1\n",
       "VINTAGE METAL CAKE STAND CREAM            1\n",
       "BLUE BAROQUE FLOCK CANDLE HOLDER          1\n",
       "S/4 HEART CRYSTAL FRIDGE MAGNETS          1\n",
       "dotcom email                              1\n",
       "Name: count, Length: 4681, dtype: int64"
      ]
     },
     "execution_count": 26,
     "metadata": {},
     "output_type": "execute_result"
    }
   ],
   "source": [
    "online_retail_df['Description'].value_counts()"
   ]
  },
  {
   "cell_type": "code",
   "execution_count": 27,
   "id": "c0111689-3cb8-498d-a779-918b1f0e8587",
   "metadata": {},
   "outputs": [
    {
     "data": {
      "text/plain": [
       "Quantity\n",
       " 1       146118\n",
       " 2        78131\n",
       " 12       60682\n",
       " 6        44431\n",
       " 3        35517\n",
       "          ...  \n",
       "-1120         1\n",
       " 2651         1\n",
       " 528          1\n",
       " 681          1\n",
       "-177          1\n",
       "Name: count, Length: 825, dtype: int64"
      ]
     },
     "execution_count": 27,
     "metadata": {},
     "output_type": "execute_result"
    }
   ],
   "source": [
    "online_retail_df['Quantity'].value_counts()"
   ]
  },
  {
   "cell_type": "code",
   "execution_count": 28,
   "id": "b47eac58-f894-47b8-ae6e-a4a162057961",
   "metadata": {},
   "outputs": [
    {
     "data": {
      "text/plain": [
       "InvoiceDate\n",
       "2010-12-06 16:57:00    675\n",
       "2010-12-09 14:09:00    652\n",
       "2010-12-07 15:28:00    601\n",
       "2010-12-06 09:58:00    597\n",
       "2010-12-03 11:36:00    593\n",
       "                      ... \n",
       "2010-02-24 16:40:00      1\n",
       "2010-10-11 08:12:00      1\n",
       "2010-02-24 16:43:00      1\n",
       "2010-02-24 16:44:00      1\n",
       "2010-09-28 15:24:00      1\n",
       "Name: count, Length: 25296, dtype: int64"
      ]
     },
     "execution_count": 28,
     "metadata": {},
     "output_type": "execute_result"
    }
   ],
   "source": [
    "online_retail_df['InvoiceDate'].value_counts()"
   ]
  },
  {
   "cell_type": "code",
   "execution_count": 34,
   "id": "ddac66a9-08be-41a0-b9ac-e6397b0123d6",
   "metadata": {},
   "outputs": [
    {
     "data": {
      "text/plain": [
       "Customer ID\n",
       "14911.0    5710\n",
       "17841.0    5114\n",
       "14606.0    3927\n",
       "14156.0    2710\n",
       "12748.0    2665\n",
       "           ... \n",
       "18174.0       1\n",
       "14827.0       1\n",
       "17645.0       1\n",
       "16443.0       1\n",
       "13222.0       1\n",
       "Name: count, Length: 4383, dtype: int64"
      ]
     },
     "execution_count": 34,
     "metadata": {},
     "output_type": "execute_result"
    }
   ],
   "source": [
    "online_retail_df['Customer ID'].value_counts()"
   ]
  },
  {
   "cell_type": "code",
   "execution_count": 35,
   "id": "110c1097-7a16-4c52-b032-48e7172079d0",
   "metadata": {},
   "outputs": [
    {
     "data": {
      "text/plain": [
       "Country\n",
       "United Kingdom          485852\n",
       "EIRE                      9670\n",
       "Germany                   8129\n",
       "France                    5772\n",
       "Netherlands               2769\n",
       "Spain                     1278\n",
       "Switzerland               1187\n",
       "Portugal                  1101\n",
       "Belgium                   1054\n",
       "Channel Islands            906\n",
       "Sweden                     902\n",
       "Italy                      731\n",
       "Australia                  654\n",
       "Cyprus                     554\n",
       "Austria                    537\n",
       "Greece                     517\n",
       "United Arab Emirates       432\n",
       "Denmark                    428\n",
       "Norway                     369\n",
       "Finland                    354\n",
       "Unspecified                310\n",
       "USA                        244\n",
       "Japan                      224\n",
       "Poland                     194\n",
       "Malta                      172\n",
       "Lithuania                  154\n",
       "Singapore                  117\n",
       "RSA                        111\n",
       "Bahrain                    107\n",
       "Canada                      77\n",
       "Hong Kong                   76\n",
       "Thailand                    76\n",
       "Israel                      74\n",
       "Iceland                     71\n",
       "Korea                       63\n",
       "Brazil                      62\n",
       "West Indies                 54\n",
       "Bermuda                     34\n",
       "Nigeria                     32\n",
       "Lebanon                     13\n",
       "Name: count, dtype: int64"
      ]
     },
     "execution_count": 35,
     "metadata": {},
     "output_type": "execute_result"
    }
   ],
   "source": [
    "online_retail_df['Country'].value_counts()"
   ]
  },
  {
   "cell_type": "code",
   "execution_count": 31,
   "id": "84e440fc-c695-4352-ac5e-fb4f79611efd",
   "metadata": {},
   "outputs": [
    {
     "data": {
      "text/plain": [
       "StockCode  Description                       \n",
       "85123A     WHITE HANGING HEART T-LIGHT HOLDER    3515\n",
       "22423      REGENCY CAKESTAND 3 TIER              2212\n",
       "21232      STRAWBERRY CERAMIC TRINKET BOX        1843\n",
       "21212      PACK OF 72 RETRO SPOT CAKE CASES      1466\n",
       "84879      ASSORTED COLOUR BIRD ORNAMENT         1457\n",
       "                                                 ... \n",
       "20786      Damages                                  1\n",
       "21254      SET OF KITCHEN WALL  STICKERS            1\n",
       "48173C     damaged                                  1\n",
       "84932D     damages                                  1\n",
       "85132c     CHARLIE AND LOLA FIGURES TINS            1\n",
       "Name: count, Length: 5070, dtype: int64"
      ]
     },
     "execution_count": 31,
     "metadata": {},
     "output_type": "execute_result"
    }
   ],
   "source": [
    "online_retail_df[['StockCode', 'Description']].value_counts()"
   ]
  },
  {
   "cell_type": "code",
   "execution_count": 53,
   "id": "59784aa6-d292-4784-a6a9-d14117a05c65",
   "metadata": {},
   "outputs": [
    {
     "name": "stdout",
     "output_type": "stream",
     "text": [
      "Number of stock codes with more than one description: 687 (15%)\n"
     ]
    }
   ],
   "source": [
    "descriptions_per_stock_code = online_retail_df.groupby('StockCode')['Description'].nunique()\n",
    "num_non_unique_descriptions = (descriptions_per_stock_code > 1).sum()\n",
    "pct_non_unique_descriptions = (num_non_unique_descriptions / len(descriptions_per_stock_code)) * 100\n",
    "print(f'Number of stock codes with more than one description: {num_non_unique_descriptions} ({pct_non_unique_descriptions:.0f}%)')"
   ]
  },
  {
   "cell_type": "code",
   "execution_count": 56,
   "id": "cd8c9f07-e4aa-4e68-84d0-5a55b17a0836",
   "metadata": {},
   "outputs": [
    {
     "data": {
      "text/plain": [
       "StockCode\n",
       "22423        6\n",
       "22734        5\n",
       "22345        4\n",
       "85099B       4\n",
       "22384        4\n",
       "            ..\n",
       "22366        2\n",
       "22367        2\n",
       "22381        2\n",
       "22382        2\n",
       "DCGSSGIRL    2\n",
       "Name: Description, Length: 687, dtype: int64"
      ]
     },
     "execution_count": 56,
     "metadata": {},
     "output_type": "execute_result"
    }
   ],
   "source": [
    "descriptions_per_stock_code[descriptions_per_stock_code > 1].sort_values(ascending=False)"
   ]
  },
  {
   "cell_type": "code",
   "execution_count": 59,
   "id": "bb88a3db-80fa-4554-b34f-1e6f4f78dc26",
   "metadata": {},
   "outputs": [
    {
     "data": {
      "text/plain": [
       "array(['REGENCY CAKESTAND 3 TIER', 'smashed', 'damaged', nan,\n",
       "       'broken, uneven bottom', 'wonky bottom/broken', 'faulty'],\n",
       "      dtype=object)"
      ]
     },
     "execution_count": 59,
     "metadata": {},
     "output_type": "execute_result"
    }
   ],
   "source": [
    "online_retail_df.query('StockCode == 22423')['Description'].unique()"
   ]
  },
  {
   "cell_type": "code",
   "execution_count": 64,
   "id": "7e9c5991-6c30-474c-a1af-d7d7243b5cef",
   "metadata": {},
   "outputs": [
    {
     "data": {
      "text/html": [
       "<div>\n",
       "<style scoped>\n",
       "    .dataframe tbody tr th:only-of-type {\n",
       "        vertical-align: middle;\n",
       "    }\n",
       "\n",
       "    .dataframe tbody tr th {\n",
       "        vertical-align: top;\n",
       "    }\n",
       "\n",
       "    .dataframe thead th {\n",
       "        text-align: right;\n",
       "    }\n",
       "</style>\n",
       "<table border=\"1\" class=\"dataframe\">\n",
       "  <thead>\n",
       "    <tr style=\"text-align: right;\">\n",
       "      <th></th>\n",
       "      <th>Invoice</th>\n",
       "      <th>StockCode</th>\n",
       "      <th>Description</th>\n",
       "      <th>Quantity</th>\n",
       "      <th>InvoiceDate</th>\n",
       "      <th>Price</th>\n",
       "      <th>Customer ID</th>\n",
       "      <th>Country</th>\n",
       "    </tr>\n",
       "  </thead>\n",
       "  <tbody>\n",
       "    <tr>\n",
       "      <th>192773</th>\n",
       "      <td>507688</td>\n",
       "      <td>22423</td>\n",
       "      <td>smashed</td>\n",
       "      <td>-32</td>\n",
       "      <td>2010-05-11 09:56:00</td>\n",
       "      <td>0.0</td>\n",
       "      <td>NaN</td>\n",
       "      <td>United Kingdom</td>\n",
       "    </tr>\n",
       "    <tr>\n",
       "      <th>193100</th>\n",
       "      <td>507708</td>\n",
       "      <td>22423</td>\n",
       "      <td>damaged</td>\n",
       "      <td>-90</td>\n",
       "      <td>2010-05-11 11:18:00</td>\n",
       "      <td>0.0</td>\n",
       "      <td>NaN</td>\n",
       "      <td>United Kingdom</td>\n",
       "    </tr>\n",
       "    <tr>\n",
       "      <th>213344</th>\n",
       "      <td>510068</td>\n",
       "      <td>22423</td>\n",
       "      <td>NaN</td>\n",
       "      <td>-30</td>\n",
       "      <td>2010-05-27 11:08:00</td>\n",
       "      <td>0.0</td>\n",
       "      <td>NaN</td>\n",
       "      <td>United Kingdom</td>\n",
       "    </tr>\n",
       "    <tr>\n",
       "      <th>256099</th>\n",
       "      <td>514102</td>\n",
       "      <td>22423</td>\n",
       "      <td>damaged</td>\n",
       "      <td>-14</td>\n",
       "      <td>2010-06-30 12:32:00</td>\n",
       "      <td>0.0</td>\n",
       "      <td>NaN</td>\n",
       "      <td>United Kingdom</td>\n",
       "    </tr>\n",
       "    <tr>\n",
       "      <th>276229</th>\n",
       "      <td>516200</td>\n",
       "      <td>22423</td>\n",
       "      <td>smashed</td>\n",
       "      <td>-31</td>\n",
       "      <td>2010-07-19 10:33:00</td>\n",
       "      <td>0.0</td>\n",
       "      <td>NaN</td>\n",
       "      <td>United Kingdom</td>\n",
       "    </tr>\n",
       "    <tr>\n",
       "      <th>374144</th>\n",
       "      <td>525460</td>\n",
       "      <td>22423</td>\n",
       "      <td>broken, uneven bottom</td>\n",
       "      <td>-35</td>\n",
       "      <td>2010-10-05 14:46:00</td>\n",
       "      <td>0.0</td>\n",
       "      <td>NaN</td>\n",
       "      <td>United Kingdom</td>\n",
       "    </tr>\n",
       "    <tr>\n",
       "      <th>416038</th>\n",
       "      <td>529134</td>\n",
       "      <td>22423</td>\n",
       "      <td>wonky bottom/broken</td>\n",
       "      <td>-35</td>\n",
       "      <td>2010-10-26 14:48:00</td>\n",
       "      <td>0.0</td>\n",
       "      <td>NaN</td>\n",
       "      <td>United Kingdom</td>\n",
       "    </tr>\n",
       "    <tr>\n",
       "      <th>472121</th>\n",
       "      <td>533872</td>\n",
       "      <td>22423</td>\n",
       "      <td>damaged</td>\n",
       "      <td>-29</td>\n",
       "      <td>2010-11-19 11:35:00</td>\n",
       "      <td>0.0</td>\n",
       "      <td>NaN</td>\n",
       "      <td>United Kingdom</td>\n",
       "    </tr>\n",
       "    <tr>\n",
       "      <th>524286</th>\n",
       "      <td>538072</td>\n",
       "      <td>22423</td>\n",
       "      <td>faulty</td>\n",
       "      <td>-13</td>\n",
       "      <td>2010-12-09 14:10:00</td>\n",
       "      <td>0.0</td>\n",
       "      <td>NaN</td>\n",
       "      <td>United Kingdom</td>\n",
       "    </tr>\n",
       "  </tbody>\n",
       "</table>\n",
       "</div>"
      ],
      "text/plain": [
       "       Invoice StockCode            Description  Quantity         InvoiceDate  \\\n",
       "192773  507688     22423                smashed       -32 2010-05-11 09:56:00   \n",
       "193100  507708     22423                damaged       -90 2010-05-11 11:18:00   \n",
       "213344  510068     22423                    NaN       -30 2010-05-27 11:08:00   \n",
       "256099  514102     22423                damaged       -14 2010-06-30 12:32:00   \n",
       "276229  516200     22423                smashed       -31 2010-07-19 10:33:00   \n",
       "374144  525460     22423  broken, uneven bottom       -35 2010-10-05 14:46:00   \n",
       "416038  529134     22423    wonky bottom/broken       -35 2010-10-26 14:48:00   \n",
       "472121  533872     22423                damaged       -29 2010-11-19 11:35:00   \n",
       "524286  538072     22423                 faulty       -13 2010-12-09 14:10:00   \n",
       "\n",
       "        Price  Customer ID         Country  \n",
       "192773    0.0          NaN  United Kingdom  \n",
       "193100    0.0          NaN  United Kingdom  \n",
       "213344    0.0          NaN  United Kingdom  \n",
       "256099    0.0          NaN  United Kingdom  \n",
       "276229    0.0          NaN  United Kingdom  \n",
       "374144    0.0          NaN  United Kingdom  \n",
       "416038    0.0          NaN  United Kingdom  \n",
       "472121    0.0          NaN  United Kingdom  \n",
       "524286    0.0          NaN  United Kingdom  "
      ]
     },
     "execution_count": 64,
     "metadata": {},
     "output_type": "execute_result"
    }
   ],
   "source": [
    "online_retail_df.query('StockCode == 22423 and Description != \"REGENCY CAKESTAND 3 TIER\"')"
   ]
  },
  {
   "cell_type": "code",
   "execution_count": 65,
   "id": "e291cf7b-2f7a-4cfa-8b17-b07fe42d1ca4",
   "metadata": {},
   "outputs": [
    {
     "data": {
      "text/html": [
       "<div>\n",
       "<style scoped>\n",
       "    .dataframe tbody tr th:only-of-type {\n",
       "        vertical-align: middle;\n",
       "    }\n",
       "\n",
       "    .dataframe tbody tr th {\n",
       "        vertical-align: top;\n",
       "    }\n",
       "\n",
       "    .dataframe thead th {\n",
       "        text-align: right;\n",
       "    }\n",
       "</style>\n",
       "<table border=\"1\" class=\"dataframe\">\n",
       "  <thead>\n",
       "    <tr style=\"text-align: right;\">\n",
       "      <th></th>\n",
       "      <th>Invoice</th>\n",
       "      <th>StockCode</th>\n",
       "      <th>Description</th>\n",
       "      <th>Quantity</th>\n",
       "      <th>InvoiceDate</th>\n",
       "      <th>Price</th>\n",
       "      <th>Customer ID</th>\n",
       "      <th>Country</th>\n",
       "    </tr>\n",
       "  </thead>\n",
       "  <tbody>\n",
       "    <tr>\n",
       "      <th>178</th>\n",
       "      <td>C489449</td>\n",
       "      <td>22087</td>\n",
       "      <td>PAPER BUNTING WHITE LACE</td>\n",
       "      <td>-12</td>\n",
       "      <td>2009-12-01 10:33:00</td>\n",
       "      <td>2.95</td>\n",
       "      <td>16321.0</td>\n",
       "      <td>Australia</td>\n",
       "    </tr>\n",
       "    <tr>\n",
       "      <th>179</th>\n",
       "      <td>C489449</td>\n",
       "      <td>85206A</td>\n",
       "      <td>CREAM FELT EASTER EGG BASKET</td>\n",
       "      <td>-6</td>\n",
       "      <td>2009-12-01 10:33:00</td>\n",
       "      <td>1.65</td>\n",
       "      <td>16321.0</td>\n",
       "      <td>Australia</td>\n",
       "    </tr>\n",
       "    <tr>\n",
       "      <th>180</th>\n",
       "      <td>C489449</td>\n",
       "      <td>21895</td>\n",
       "      <td>POTTING SHED SOW 'N' GROW SET</td>\n",
       "      <td>-4</td>\n",
       "      <td>2009-12-01 10:33:00</td>\n",
       "      <td>4.25</td>\n",
       "      <td>16321.0</td>\n",
       "      <td>Australia</td>\n",
       "    </tr>\n",
       "    <tr>\n",
       "      <th>181</th>\n",
       "      <td>C489449</td>\n",
       "      <td>21896</td>\n",
       "      <td>POTTING SHED TWINE</td>\n",
       "      <td>-6</td>\n",
       "      <td>2009-12-01 10:33:00</td>\n",
       "      <td>2.10</td>\n",
       "      <td>16321.0</td>\n",
       "      <td>Australia</td>\n",
       "    </tr>\n",
       "    <tr>\n",
       "      <th>182</th>\n",
       "      <td>C489449</td>\n",
       "      <td>22083</td>\n",
       "      <td>PAPER CHAIN KIT RETRO SPOT</td>\n",
       "      <td>-12</td>\n",
       "      <td>2009-12-01 10:33:00</td>\n",
       "      <td>2.95</td>\n",
       "      <td>16321.0</td>\n",
       "      <td>Australia</td>\n",
       "    </tr>\n",
       "    <tr>\n",
       "      <th>...</th>\n",
       "      <td>...</td>\n",
       "      <td>...</td>\n",
       "      <td>...</td>\n",
       "      <td>...</td>\n",
       "      <td>...</td>\n",
       "      <td>...</td>\n",
       "      <td>...</td>\n",
       "      <td>...</td>\n",
       "    </tr>\n",
       "    <tr>\n",
       "      <th>525231</th>\n",
       "      <td>538159</td>\n",
       "      <td>21324</td>\n",
       "      <td>NaN</td>\n",
       "      <td>-18</td>\n",
       "      <td>2010-12-09 17:17:00</td>\n",
       "      <td>0.00</td>\n",
       "      <td>NaN</td>\n",
       "      <td>United Kingdom</td>\n",
       "    </tr>\n",
       "    <tr>\n",
       "      <th>525232</th>\n",
       "      <td>538158</td>\n",
       "      <td>20892</td>\n",
       "      <td>NaN</td>\n",
       "      <td>-32</td>\n",
       "      <td>2010-12-09 17:17:00</td>\n",
       "      <td>0.00</td>\n",
       "      <td>NaN</td>\n",
       "      <td>United Kingdom</td>\n",
       "    </tr>\n",
       "    <tr>\n",
       "      <th>525234</th>\n",
       "      <td>538161</td>\n",
       "      <td>46000S</td>\n",
       "      <td>Dotcom sales</td>\n",
       "      <td>-100</td>\n",
       "      <td>2010-12-09 17:25:00</td>\n",
       "      <td>0.00</td>\n",
       "      <td>NaN</td>\n",
       "      <td>United Kingdom</td>\n",
       "    </tr>\n",
       "    <tr>\n",
       "      <th>525235</th>\n",
       "      <td>538162</td>\n",
       "      <td>46000M</td>\n",
       "      <td>Dotcom sales</td>\n",
       "      <td>-100</td>\n",
       "      <td>2010-12-09 17:25:00</td>\n",
       "      <td>0.00</td>\n",
       "      <td>NaN</td>\n",
       "      <td>United Kingdom</td>\n",
       "    </tr>\n",
       "    <tr>\n",
       "      <th>525282</th>\n",
       "      <td>C538164</td>\n",
       "      <td>35004B</td>\n",
       "      <td>SET OF 3 BLACK FLYING DUCKS</td>\n",
       "      <td>-1</td>\n",
       "      <td>2010-12-09 17:32:00</td>\n",
       "      <td>1.95</td>\n",
       "      <td>14031.0</td>\n",
       "      <td>United Kingdom</td>\n",
       "    </tr>\n",
       "  </tbody>\n",
       "</table>\n",
       "<p>12326 rows × 8 columns</p>\n",
       "</div>"
      ],
      "text/plain": [
       "        Invoice StockCode                    Description  Quantity  \\\n",
       "178     C489449     22087       PAPER BUNTING WHITE LACE       -12   \n",
       "179     C489449    85206A   CREAM FELT EASTER EGG BASKET        -6   \n",
       "180     C489449     21895  POTTING SHED SOW 'N' GROW SET        -4   \n",
       "181     C489449     21896             POTTING SHED TWINE        -6   \n",
       "182     C489449     22083     PAPER CHAIN KIT RETRO SPOT       -12   \n",
       "...         ...       ...                            ...       ...   \n",
       "525231   538159     21324                            NaN       -18   \n",
       "525232   538158     20892                            NaN       -32   \n",
       "525234   538161    46000S                   Dotcom sales      -100   \n",
       "525235   538162    46000M                   Dotcom sales      -100   \n",
       "525282  C538164    35004B    SET OF 3 BLACK FLYING DUCKS        -1   \n",
       "\n",
       "               InvoiceDate  Price  Customer ID         Country  \n",
       "178    2009-12-01 10:33:00   2.95      16321.0       Australia  \n",
       "179    2009-12-01 10:33:00   1.65      16321.0       Australia  \n",
       "180    2009-12-01 10:33:00   4.25      16321.0       Australia  \n",
       "181    2009-12-01 10:33:00   2.10      16321.0       Australia  \n",
       "182    2009-12-01 10:33:00   2.95      16321.0       Australia  \n",
       "...                    ...    ...          ...             ...  \n",
       "525231 2010-12-09 17:17:00   0.00          NaN  United Kingdom  \n",
       "525232 2010-12-09 17:17:00   0.00          NaN  United Kingdom  \n",
       "525234 2010-12-09 17:25:00   0.00          NaN  United Kingdom  \n",
       "525235 2010-12-09 17:25:00   0.00          NaN  United Kingdom  \n",
       "525282 2010-12-09 17:32:00   1.95      14031.0  United Kingdom  \n",
       "\n",
       "[12326 rows x 8 columns]"
      ]
     },
     "execution_count": 65,
     "metadata": {},
     "output_type": "execute_result"
    }
   ],
   "source": [
    "online_retail_df.query('Quantity < 0')"
   ]
  },
  {
   "cell_type": "code",
   "execution_count": 67,
   "id": "53512d64-5734-4488-8bcd-3f74d6382cce",
   "metadata": {},
   "outputs": [
    {
     "data": {
      "text/plain": [
       "4632"
      ]
     },
     "execution_count": 67,
     "metadata": {},
     "output_type": "execute_result"
    }
   ],
   "source": [
    "online_retail_df['StockCode'].nunique()"
   ]
  },
  {
   "cell_type": "code",
   "execution_count": 74,
   "id": "14a64632-324e-429f-bca0-1b93cda37ca0",
   "metadata": {},
   "outputs": [
    {
     "name": "stdout",
     "output_type": "stream",
     "text": [
      "Total units sold: 6011588\n",
      "Total units returned: 579547\n",
      "Percentage returned: 10%\n"
     ]
    }
   ],
   "source": [
    "sold = online_retail_df.query('Quantity > 0')['Quantity'].sum()\n",
    "returned = -online_retail_df.query('Quantity < 0')['Quantity'].sum()\n",
    "\n",
    "print('Total units sold:', sold)\n",
    "print('Total units returned:', returned)\n",
    "print(f'Percentage returned: {returned/sold * 100:.0f}%')"
   ]
  },
  {
   "cell_type": "code",
   "execution_count": 89,
   "id": "100c16ca-24cd-49f8-83c1-3f0b9f321b41",
   "metadata": {},
   "outputs": [
    {
     "data": {
      "text/plain": [
       "StockCode\n",
       "47503F       0.019444\n",
       "21523        0.025994\n",
       "22571        0.027397\n",
       "21524        0.027878\n",
       "22549        0.028580\n",
       "               ...   \n",
       "DCGS0059          NaN\n",
       "DCGS0060          NaN\n",
       "DCGSLBOY          NaN\n",
       "DCGSLGIRL         NaN\n",
       "GIFT              NaN\n",
       "Length: 4632, dtype: float64"
      ]
     },
     "execution_count": 89,
     "metadata": {},
     "output_type": "execute_result"
    }
   ],
   "source": [
    "sold_per_product = online_retail_df.query('Quantity > 0').groupby('StockCode')['Quantity'].sum()\n",
    "sold_per_product.name = 'Sold'\n",
    "returned_per_product = -online_retail_df.query('Quantity < 0').groupby('StockCode')['Quantity'].sum()\n",
    "returned_per_product.name = 'Returned'\n",
    "\n",
    "sold_and_returned_qunatities_by_product_df = pd.concat([sold_per_product, returned_per_product], axis=1)\n",
    "\n",
    "returned_pct_by_product = sold_and_returned_qunatities_by_product_df['Returned'] / sold_and_returned_qunatities_by_product_df['Sold'] * 100\n",
    "\n",
    "returned_pct_by_product.sort_values()"
   ]
  },
  {
   "cell_type": "code",
   "execution_count": 98,
   "id": "7ab4a2ed-c46c-47a0-8c45-46981a1464b7",
   "metadata": {},
   "outputs": [
    {
     "data": {
      "text/html": [
       "<div>\n",
       "<style scoped>\n",
       "    .dataframe tbody tr th:only-of-type {\n",
       "        vertical-align: middle;\n",
       "    }\n",
       "\n",
       "    .dataframe tbody tr th {\n",
       "        vertical-align: top;\n",
       "    }\n",
       "\n",
       "    .dataframe thead th {\n",
       "        text-align: right;\n",
       "    }\n",
       "</style>\n",
       "<table border=\"1\" class=\"dataframe\">\n",
       "  <thead>\n",
       "    <tr style=\"text-align: right;\">\n",
       "      <th></th>\n",
       "      <th>Sold</th>\n",
       "      <th>Returned</th>\n",
       "    </tr>\n",
       "    <tr>\n",
       "      <th>StockCode</th>\n",
       "      <th></th>\n",
       "      <th></th>\n",
       "    </tr>\n",
       "  </thead>\n",
       "  <tbody>\n",
       "    <tr>\n",
       "      <th>15002</th>\n",
       "      <td>NaN</td>\n",
       "      <td>1000.0</td>\n",
       "    </tr>\n",
       "    <tr>\n",
       "      <th>16131</th>\n",
       "      <td>NaN</td>\n",
       "      <td>1.0</td>\n",
       "    </tr>\n",
       "    <tr>\n",
       "      <th>16132</th>\n",
       "      <td>NaN</td>\n",
       "      <td>8.0</td>\n",
       "    </tr>\n",
       "    <tr>\n",
       "      <th>16210</th>\n",
       "      <td>NaN</td>\n",
       "      <td>20.0</td>\n",
       "    </tr>\n",
       "    <tr>\n",
       "      <th>16240</th>\n",
       "      <td>NaN</td>\n",
       "      <td>40.0</td>\n",
       "    </tr>\n",
       "    <tr>\n",
       "      <th>...</th>\n",
       "      <td>...</td>\n",
       "      <td>...</td>\n",
       "    </tr>\n",
       "    <tr>\n",
       "      <th>DCGS0059</th>\n",
       "      <td>NaN</td>\n",
       "      <td>8.0</td>\n",
       "    </tr>\n",
       "    <tr>\n",
       "      <th>DCGS0060</th>\n",
       "      <td>NaN</td>\n",
       "      <td>3.0</td>\n",
       "    </tr>\n",
       "    <tr>\n",
       "      <th>DCGSLBOY</th>\n",
       "      <td>NaN</td>\n",
       "      <td>16.0</td>\n",
       "    </tr>\n",
       "    <tr>\n",
       "      <th>DCGSLGIRL</th>\n",
       "      <td>NaN</td>\n",
       "      <td>57.0</td>\n",
       "    </tr>\n",
       "    <tr>\n",
       "      <th>GIFT</th>\n",
       "      <td>NaN</td>\n",
       "      <td>9.0</td>\n",
       "    </tr>\n",
       "  </tbody>\n",
       "</table>\n",
       "<p>315 rows × 2 columns</p>\n",
       "</div>"
      ],
      "text/plain": [
       "           Sold  Returned\n",
       "StockCode                \n",
       "15002       NaN    1000.0\n",
       "16131       NaN       1.0\n",
       "16132       NaN       8.0\n",
       "16210       NaN      20.0\n",
       "16240       NaN      40.0\n",
       "...         ...       ...\n",
       "DCGS0059    NaN       8.0\n",
       "DCGS0060    NaN       3.0\n",
       "DCGSLBOY    NaN      16.0\n",
       "DCGSLGIRL   NaN      57.0\n",
       "GIFT        NaN       9.0\n",
       "\n",
       "[315 rows x 2 columns]"
      ]
     },
     "execution_count": 98,
     "metadata": {},
     "output_type": "execute_result"
    }
   ],
   "source": [
    "nothing_sold_mask = sold_and_returned_qunatities_by_product_df['Sold'].isna()\n",
    "sold_and_returned_qunatities_by_product_df[nothing_sold_mask]"
   ]
  },
  {
   "cell_type": "code",
   "execution_count": 99,
   "id": "374f1546-2175-4c4c-a47b-e86c874c567a",
   "metadata": {},
   "outputs": [
    {
     "data": {
      "text/html": [
       "<div>\n",
       "<style scoped>\n",
       "    .dataframe tbody tr th:only-of-type {\n",
       "        vertical-align: middle;\n",
       "    }\n",
       "\n",
       "    .dataframe tbody tr th {\n",
       "        vertical-align: top;\n",
       "    }\n",
       "\n",
       "    .dataframe thead th {\n",
       "        text-align: right;\n",
       "    }\n",
       "</style>\n",
       "<table border=\"1\" class=\"dataframe\">\n",
       "  <thead>\n",
       "    <tr style=\"text-align: right;\">\n",
       "      <th></th>\n",
       "      <th>Invoice</th>\n",
       "      <th>StockCode</th>\n",
       "      <th>Description</th>\n",
       "      <th>Quantity</th>\n",
       "      <th>InvoiceDate</th>\n",
       "      <th>Price</th>\n",
       "      <th>Customer ID</th>\n",
       "      <th>Country</th>\n",
       "    </tr>\n",
       "  </thead>\n",
       "  <tbody>\n",
       "    <tr>\n",
       "      <th>436898</th>\n",
       "      <td>531140</td>\n",
       "      <td>15002</td>\n",
       "      <td>rex use</td>\n",
       "      <td>-1000</td>\n",
       "      <td>2010-11-05 14:11:00</td>\n",
       "      <td>0.0</td>\n",
       "      <td>NaN</td>\n",
       "      <td>United Kingdom</td>\n",
       "    </tr>\n",
       "  </tbody>\n",
       "</table>\n",
       "</div>"
      ],
      "text/plain": [
       "       Invoice StockCode Description  Quantity         InvoiceDate  Price  \\\n",
       "436898  531140     15002     rex use     -1000 2010-11-05 14:11:00    0.0   \n",
       "\n",
       "        Customer ID         Country  \n",
       "436898          NaN  United Kingdom  "
      ]
     },
     "execution_count": 99,
     "metadata": {},
     "output_type": "execute_result"
    }
   ],
   "source": [
    "online_retail_df.query('StockCode == 15002')"
   ]
  },
  {
   "cell_type": "code",
   "execution_count": 106,
   "id": "8ad2c728-db63-406a-99c2-438a17b00727",
   "metadata": {},
   "outputs": [
    {
     "data": {
      "text/plain": [
       "count                           525461\n",
       "mean     2010-06-28 11:37:36.845017856\n",
       "min                2009-12-01 07:45:00\n",
       "25%                2010-03-21 12:20:00\n",
       "50%                2010-07-06 09:51:00\n",
       "75%                2010-10-15 12:45:00\n",
       "max                2010-12-09 20:01:00\n",
       "Name: InvoiceDate, dtype: object"
      ]
     },
     "execution_count": 106,
     "metadata": {},
     "output_type": "execute_result"
    }
   ],
   "source": [
    "online_retail_df['InvoiceDate'].describe()"
   ]
  },
  {
   "cell_type": "code",
   "execution_count": 109,
   "id": "d54ede27-f65d-4523-92c8-131269acb7b4",
   "metadata": {},
   "outputs": [
    {
     "data": {
      "text/html": [
       "<div>\n",
       "<style scoped>\n",
       "    .dataframe tbody tr th:only-of-type {\n",
       "        vertical-align: middle;\n",
       "    }\n",
       "\n",
       "    .dataframe tbody tr th {\n",
       "        vertical-align: top;\n",
       "    }\n",
       "\n",
       "    .dataframe thead th {\n",
       "        text-align: right;\n",
       "    }\n",
       "</style>\n",
       "<table border=\"1\" class=\"dataframe\">\n",
       "  <thead>\n",
       "    <tr style=\"text-align: right;\">\n",
       "      <th></th>\n",
       "      <th>min</th>\n",
       "      <th>max</th>\n",
       "    </tr>\n",
       "  </thead>\n",
       "  <tbody>\n",
       "    <tr>\n",
       "      <th>count</th>\n",
       "      <td>4632</td>\n",
       "      <td>4632</td>\n",
       "    </tr>\n",
       "    <tr>\n",
       "      <th>mean</th>\n",
       "      <td>2010-01-19 14:23:00.453368064</td>\n",
       "      <td>2010-09-29 20:45:05.893782272</td>\n",
       "    </tr>\n",
       "    <tr>\n",
       "      <th>min</th>\n",
       "      <td>2009-12-01 07:45:00</td>\n",
       "      <td>2009-12-01 11:44:00</td>\n",
       "    </tr>\n",
       "    <tr>\n",
       "      <th>25%</th>\n",
       "      <td>2009-12-01 14:28:00</td>\n",
       "      <td>2010-09-09 19:23:00</td>\n",
       "    </tr>\n",
       "    <tr>\n",
       "      <th>50%</th>\n",
       "      <td>2009-12-06 13:07:00</td>\n",
       "      <td>2010-12-03 11:48:00</td>\n",
       "    </tr>\n",
       "    <tr>\n",
       "      <th>75%</th>\n",
       "      <td>2010-02-02 13:37:00</td>\n",
       "      <td>2010-12-09 13:03:00</td>\n",
       "    </tr>\n",
       "    <tr>\n",
       "      <th>max</th>\n",
       "      <td>2010-12-09 14:09:00</td>\n",
       "      <td>2010-12-09 20:01:00</td>\n",
       "    </tr>\n",
       "  </tbody>\n",
       "</table>\n",
       "</div>"
      ],
      "text/plain": [
       "                                 min                            max\n",
       "count                           4632                           4632\n",
       "mean   2010-01-19 14:23:00.453368064  2010-09-29 20:45:05.893782272\n",
       "min              2009-12-01 07:45:00            2009-12-01 11:44:00\n",
       "25%              2009-12-01 14:28:00            2010-09-09 19:23:00\n",
       "50%              2009-12-06 13:07:00            2010-12-03 11:48:00\n",
       "75%              2010-02-02 13:37:00            2010-12-09 13:03:00\n",
       "max              2010-12-09 14:09:00            2010-12-09 20:01:00"
      ]
     },
     "execution_count": 109,
     "metadata": {},
     "output_type": "execute_result"
    }
   ],
   "source": [
    "online_retail_df.groupby('StockCode')['InvoiceDate'].agg(['min', 'max']).describe()"
   ]
  },
  {
   "cell_type": "code",
   "execution_count": 110,
   "id": "37d39551-da15-40a5-8d58-e0e8f8011cc9",
   "metadata": {},
   "outputs": [
    {
     "data": {
      "text/plain": [
       "Timestamp('2010-12-09 20:01:00')"
      ]
     },
     "execution_count": 110,
     "metadata": {},
     "output_type": "execute_result"
    }
   ],
   "source": [
    "online_retail_df['InvoiceDate'].max()"
   ]
  }
 ],
 "metadata": {
  "kernelspec": {
   "display_name": "Python 3 (ipykernel)",
   "language": "python",
   "name": "python3"
  },
  "language_info": {
   "codemirror_mode": {
    "name": "ipython",
    "version": 3
   },
   "file_extension": ".py",
   "mimetype": "text/x-python",
   "name": "python",
   "nbconvert_exporter": "python",
   "pygments_lexer": "ipython3",
   "version": "3.13.2"
  }
 },
 "nbformat": 4,
 "nbformat_minor": 5
}
