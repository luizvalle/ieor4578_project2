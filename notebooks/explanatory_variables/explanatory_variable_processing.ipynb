{
 "cells": [
  {
   "cell_type": "markdown",
   "id": "7e2ce1d2",
   "metadata": {},
   "source": [
    "# Data Processing for Explanatory Variables"
   ]
  },
  {
   "cell_type": "code",
   "execution_count": 1,
   "id": "4f898fda",
   "metadata": {},
   "outputs": [],
   "source": [
    "import pandas as pd\n",
    "import numpy as np\n",
    "import json"
   ]
  },
  {
   "cell_type": "code",
   "execution_count": 2,
   "id": "1cc0eae4",
   "metadata": {},
   "outputs": [],
   "source": [
    "date_range = pd.date_range(start=\"2009-12-01\", end=\"2011-12-09\", freq='D')\n",
    "combined_df = pd.DataFrame({'date': date_range})"
   ]
  },
  {
   "cell_type": "code",
   "execution_count": 3,
   "id": "0505627c",
   "metadata": {},
   "outputs": [],
   "source": [
    "# Google Trend of Search \"gift ideas\" in UK\n",
    "google = pd.read_csv(\"data/google_trend_gift_ideas.csv\", skiprows=1)\n",
    "google['Week'] = pd.to_datetime(google['Week'])\n",
    "google = google.rename(columns={'gift ideas: (United Kingdom)': 'gift_ideas'})\n",
    "\n",
    "google_expanded = pd.DataFrame({\n",
    "    'date': google['Week'].repeat(7) + pd.to_timedelta(np.tile(range(7), len(google)), unit='D'),\n",
    "    'gift_ideas': google['gift_ideas'].repeat(7).values\n",
    "})\n",
    "\n",
    "google_expanded = google_expanded[google_expanded['date'].isin(date_range)]\n",
    "combined_df = combined_df.merge(google_expanded, on='date', how='left')"
   ]
  },
  {
   "cell_type": "code",
   "execution_count": 4,
   "id": "2605dd19",
   "metadata": {},
   "outputs": [],
   "source": [
    "# Retail Sales Index\n",
    "retail = pd.read_csv(\"data/retail-sales-index.csv\")\n",
    "retail['mmm-yy'] = pd.to_datetime(retail['mmm-yy'], format='%b-%y')\n",
    "retail = retail.pivot_table(index='mmm-yy', \n",
    "                            columns='type-of-prices', \n",
    "                            values='v4_1', \n",
    "                            aggfunc='first')\n",
    "retail = retail.reindex(pd.date_range(retail.index.min(), date_range.max()), method='ffill')\n",
    "retail = retail.loc[date_range].reset_index()\n",
    "retail = retail.rename(columns={'index': 'date'})\n",
    "combined_df = combined_df.merge(retail, on='date', how='left')\n"
   ]
  },
  {
   "cell_type": "code",
   "execution_count": 5,
   "id": "44f0c67d",
   "metadata": {},
   "outputs": [],
   "source": [
    "# Black Friday\n",
    "black_fridays = pd.to_datetime([\"2010-11-26\", \"2011-11-25\"])\n",
    "combined_df['is_black_friday'] = combined_df['date'].isin(black_fridays)"
   ]
  },
  {
   "cell_type": "code",
   "execution_count": 6,
   "id": "cd724906",
   "metadata": {},
   "outputs": [],
   "source": [
    "# Cyber Monday\n",
    "cyber_mondays = pd.to_datetime([\"2010-11-29\", \"2011-11-28\"])\n",
    "combined_df['is_cyber_monday'] = combined_df['date'].isin(cyber_mondays)"
   ]
  },
  {
   "cell_type": "code",
   "execution_count": 7,
   "id": "068209a1",
   "metadata": {},
   "outputs": [],
   "source": [
    "def load_json_series(filepath, column_name):\n",
    "    with open(filepath, 'r') as f:\n",
    "        data = json.load(f)\n",
    "    df = pd.DataFrame({\n",
    "        'date': pd.to_datetime(list(data.keys())),\n",
    "        column_name: list(data.values())\n",
    "    })\n",
    "    return df"
   ]
  },
  {
   "cell_type": "code",
   "execution_count": 8,
   "id": "6631d799",
   "metadata": {},
   "outputs": [],
   "source": [
    "# Consumer Price Index\n",
    "cpi_df = load_json_series('../../dataset/explanatory_variables/cpi.json', 'cpi')\n"
   ]
  },
  {
   "cell_type": "code",
   "execution_count": 9,
   "id": "f4688bd5",
   "metadata": {},
   "outputs": [],
   "source": [
    "# Consumer Confidence Index\n",
    "cci_df = load_json_series('../../dataset/explanatory_variables/cci.json', 'cci')\n"
   ]
  },
  {
   "cell_type": "code",
   "execution_count": 10,
   "id": "eceeeaea",
   "metadata": {},
   "outputs": [],
   "source": [
    "# Interest Rate\n",
    "interest_df = load_json_series('../../dataset/explanatory_variables/interest_rate.json', 'interest_rate')\n"
   ]
  },
  {
   "cell_type": "code",
   "execution_count": 11,
   "id": "1f2e7d07",
   "metadata": {},
   "outputs": [],
   "source": [
    "# Unemployment rate (aged 16 and over, seasonally adjusted): %\n",
    "unemployment_df = load_json_series('../../dataset/explanatory_variables/unemployment.json', 'unemployment_rate')"
   ]
  },
  {
   "cell_type": "code",
   "execution_count": 12,
   "id": "71503b19",
   "metadata": {},
   "outputs": [],
   "source": [
    "# UK Holidays\n",
    "with open('../../dataset/explanatory_variables/public_holidays.json', 'r') as f:\n",
    "    holidays_raw = json.load(f)\n",
    "\n",
    "holidays_df = pd.DataFrame({\n",
    "    'date': pd.to_datetime(list(holidays_raw.keys())),\n",
    "    'is_holiday': 1\n",
    "})"
   ]
  },
  {
   "cell_type": "code",
   "execution_count": 13,
   "id": "e3e9dfbb",
   "metadata": {},
   "outputs": [],
   "source": [
    "explanatory_df = cpi_df \\\n",
    "    .merge(cci_df, on='date', how='outer') \\\n",
    "    .merge(interest_df, on='date', how='outer') \\\n",
    "    .merge(unemployment_df, on='date', how='outer') \\\n",
    "    .merge(holidays_df, on='date', how='left')"
   ]
  },
  {
   "cell_type": "code",
   "execution_count": 14,
   "id": "5f01a7e0",
   "metadata": {},
   "outputs": [],
   "source": [
    "explanatory_df['is_holiday'] = explanatory_df['is_holiday'].fillna(0)"
   ]
  },
  {
   "cell_type": "code",
   "execution_count": 15,
   "id": "3aa3ff20",
   "metadata": {},
   "outputs": [],
   "source": [
    "# Add what day of the week it is\n",
    "explanatory_df['date'] = pd.to_datetime(explanatory_df['date'])\n",
    "\n",
    "explanatory_df['day_name'] = explanatory_df['date'].dt.day_name()\n",
    "\n",
    "day_dummies = pd.get_dummies(explanatory_df['day_name'], prefix='is')\n",
    "\n",
    "explanatory_df = pd.concat([explanatory_df.drop(columns='day_name'), day_dummies], axis=1)"
   ]
  },
  {
   "cell_type": "code",
   "execution_count": 16,
   "id": "8ffe4a63",
   "metadata": {},
   "outputs": [],
   "source": [
    "combined_df = combined_df.merge(explanatory_df, on='date', how='left')"
   ]
  },
  {
   "cell_type": "code",
   "execution_count": 17,
   "id": "7c8a73f1",
   "metadata": {},
   "outputs": [],
   "source": [
    "combined_df.to_csv(\"combined_explanatory_variables.csv\", index=False)"
   ]
  }
 ],
 "metadata": {
  "kernelspec": {
   "display_name": "base",
   "language": "python",
   "name": "python3"
  },
  "language_info": {
   "codemirror_mode": {
    "name": "ipython",
    "version": 3
   },
   "file_extension": ".py",
   "mimetype": "text/x-python",
   "name": "python",
   "nbconvert_exporter": "python",
   "pygments_lexer": "ipython3",
   "version": "3.12.4"
  }
 },
 "nbformat": 4,
 "nbformat_minor": 5
}
